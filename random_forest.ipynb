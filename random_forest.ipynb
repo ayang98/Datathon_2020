{
 "cells": [
  {
   "cell_type": "code",
   "execution_count": 31,
   "metadata": {},
   "outputs": [],
   "source": [
    "import pandas as pd\n",
    "import numpy as np\n",
    "from matplotlib import pyplot as plt\n",
    "import seaborn as sns\n",
    "from sklearn import model_selection\n",
    "\n",
    "sns.set(style='ticks', palette='Set1')\n",
    "%matplotlib inline\n",
    "plt.rcParams['figure.figsize']= (8,6)"
   ]
  },
  {
   "cell_type": "code",
   "execution_count": 5,
   "metadata": {},
   "outputs": [],
   "source": [
    "df = pd.read_csv('./training.csv')"
   ]
  },
  {
   "cell_type": "code",
   "execution_count": 6,
   "metadata": {},
   "outputs": [
    {
     "name": "stdout",
     "output_type": "stream",
     "text": [
      "<class 'pandas.core.frame.DataFrame'>\n",
      "RangeIndex: 6838 entries, 0 to 6837\n",
      "Data columns (total 11 columns):\n",
      "segment_id               6838 non-null object\n",
      "wellbore_chev_no_id      6838 non-null object\n",
      "area_id                  6838 non-null object\n",
      "formation_id             6838 non-null object\n",
      "bit_model_id             6838 non-null object\n",
      "drillbit_size            6838 non-null float64\n",
      "min_depth                6838 non-null float64\n",
      "max_depth                6838 non-null float64\n",
      "rate_of_penetration      6838 non-null float64\n",
      "surface_weight_on_bit    6838 non-null float64\n",
      "surface_rpm              6838 non-null float64\n",
      "dtypes: float64(6), object(5)\n",
      "memory usage: 587.7+ KB\n"
     ]
    }
   ],
   "source": [
    "df.info()"
   ]
  },
  {
   "cell_type": "code",
   "execution_count": 8,
   "metadata": {},
   "outputs": [
    {
     "data": {
      "text/html": [
       "<div>\n",
       "<style scoped>\n",
       "    .dataframe tbody tr th:only-of-type {\n",
       "        vertical-align: middle;\n",
       "    }\n",
       "\n",
       "    .dataframe tbody tr th {\n",
       "        vertical-align: top;\n",
       "    }\n",
       "\n",
       "    .dataframe thead th {\n",
       "        text-align: right;\n",
       "    }\n",
       "</style>\n",
       "<table border=\"1\" class=\"dataframe\">\n",
       "  <thead>\n",
       "    <tr style=\"text-align: right;\">\n",
       "      <th></th>\n",
       "      <th>drillbit_size</th>\n",
       "      <th>min_depth</th>\n",
       "      <th>max_depth</th>\n",
       "      <th>rate_of_penetration</th>\n",
       "      <th>surface_weight_on_bit</th>\n",
       "      <th>surface_rpm</th>\n",
       "    </tr>\n",
       "  </thead>\n",
       "  <tbody>\n",
       "    <tr>\n",
       "      <th>count</th>\n",
       "      <td>6838.000000</td>\n",
       "      <td>6838.000000</td>\n",
       "      <td>6838.000000</td>\n",
       "      <td>6838.000000</td>\n",
       "      <td>6838.000000</td>\n",
       "      <td>6838.000000</td>\n",
       "    </tr>\n",
       "    <tr>\n",
       "      <th>mean</th>\n",
       "      <td>15.726309</td>\n",
       "      <td>19609.123574</td>\n",
       "      <td>19638.444245</td>\n",
       "      <td>106.997573</td>\n",
       "      <td>35.791311</td>\n",
       "      <td>156.262449</td>\n",
       "    </tr>\n",
       "    <tr>\n",
       "      <th>std</th>\n",
       "      <td>3.522179</td>\n",
       "      <td>5739.149255</td>\n",
       "      <td>5739.051073</td>\n",
       "      <td>55.061943</td>\n",
       "      <td>13.363067</td>\n",
       "      <td>25.217998</td>\n",
       "    </tr>\n",
       "    <tr>\n",
       "      <th>min</th>\n",
       "      <td>8.500000</td>\n",
       "      <td>4988.500000</td>\n",
       "      <td>5009.500000</td>\n",
       "      <td>5.382589</td>\n",
       "      <td>5.203333</td>\n",
       "      <td>60.594999</td>\n",
       "    </tr>\n",
       "    <tr>\n",
       "      <th>25%</th>\n",
       "      <td>12.250000</td>\n",
       "      <td>14970.000000</td>\n",
       "      <td>14999.500000</td>\n",
       "      <td>62.480077</td>\n",
       "      <td>26.348941</td>\n",
       "      <td>140.665599</td>\n",
       "    </tr>\n",
       "    <tr>\n",
       "      <th>50%</th>\n",
       "      <td>16.500000</td>\n",
       "      <td>20040.000000</td>\n",
       "      <td>20069.500000</td>\n",
       "      <td>100.828372</td>\n",
       "      <td>36.983090</td>\n",
       "      <td>159.661078</td>\n",
       "    </tr>\n",
       "    <tr>\n",
       "      <th>75%</th>\n",
       "      <td>18.125000</td>\n",
       "      <td>24120.000000</td>\n",
       "      <td>24149.500000</td>\n",
       "      <td>136.087159</td>\n",
       "      <td>44.311884</td>\n",
       "      <td>175.560704</td>\n",
       "    </tr>\n",
       "    <tr>\n",
       "      <th>max</th>\n",
       "      <td>26.000000</td>\n",
       "      <td>31050.000000</td>\n",
       "      <td>31070.750000</td>\n",
       "      <td>512.754999</td>\n",
       "      <td>71.328106</td>\n",
       "      <td>211.066667</td>\n",
       "    </tr>\n",
       "  </tbody>\n",
       "</table>\n",
       "</div>"
      ],
      "text/plain": [
       "       drillbit_size     min_depth     max_depth  rate_of_penetration  \\\n",
       "count    6838.000000   6838.000000   6838.000000          6838.000000   \n",
       "mean       15.726309  19609.123574  19638.444245           106.997573   \n",
       "std         3.522179   5739.149255   5739.051073            55.061943   \n",
       "min         8.500000   4988.500000   5009.500000             5.382589   \n",
       "25%        12.250000  14970.000000  14999.500000            62.480077   \n",
       "50%        16.500000  20040.000000  20069.500000           100.828372   \n",
       "75%        18.125000  24120.000000  24149.500000           136.087159   \n",
       "max        26.000000  31050.000000  31070.750000           512.754999   \n",
       "\n",
       "       surface_weight_on_bit  surface_rpm  \n",
       "count            6838.000000  6838.000000  \n",
       "mean               35.791311   156.262449  \n",
       "std                13.363067    25.217998  \n",
       "min                 5.203333    60.594999  \n",
       "25%                26.348941   140.665599  \n",
       "50%                36.983090   159.661078  \n",
       "75%                44.311884   175.560704  \n",
       "max                71.328106   211.066667  "
      ]
     },
     "execution_count": 8,
     "metadata": {},
     "output_type": "execute_result"
    }
   ],
   "source": [
    "df.describe()"
   ]
  },
  {
   "cell_type": "code",
   "execution_count": 9,
   "metadata": {},
   "outputs": [
    {
     "data": {
      "text/html": [
       "<div>\n",
       "<style scoped>\n",
       "    .dataframe tbody tr th:only-of-type {\n",
       "        vertical-align: middle;\n",
       "    }\n",
       "\n",
       "    .dataframe tbody tr th {\n",
       "        vertical-align: top;\n",
       "    }\n",
       "\n",
       "    .dataframe thead th {\n",
       "        text-align: right;\n",
       "    }\n",
       "</style>\n",
       "<table border=\"1\" class=\"dataframe\">\n",
       "  <thead>\n",
       "    <tr style=\"text-align: right;\">\n",
       "      <th></th>\n",
       "      <th>segment_id</th>\n",
       "      <th>wellbore_chev_no_id</th>\n",
       "      <th>area_id</th>\n",
       "      <th>formation_id</th>\n",
       "      <th>bit_model_id</th>\n",
       "      <th>drillbit_size</th>\n",
       "      <th>min_depth</th>\n",
       "      <th>max_depth</th>\n",
       "      <th>rate_of_penetration</th>\n",
       "      <th>surface_weight_on_bit</th>\n",
       "      <th>surface_rpm</th>\n",
       "    </tr>\n",
       "  </thead>\n",
       "  <tbody>\n",
       "    <tr>\n",
       "      <th>0</th>\n",
       "      <td>wellbore_chev_no_0_727</td>\n",
       "      <td>wellbore_chev_no_0</td>\n",
       "      <td>area_0</td>\n",
       "      <td>formation_62</td>\n",
       "      <td>bit_model_1</td>\n",
       "      <td>12.25</td>\n",
       "      <td>21834.5</td>\n",
       "      <td>21839.5</td>\n",
       "      <td>99.614650</td>\n",
       "      <td>43.533280</td>\n",
       "      <td>150.369091</td>\n",
       "    </tr>\n",
       "    <tr>\n",
       "      <th>1</th>\n",
       "      <td>wellbore_chev_no_0_728</td>\n",
       "      <td>wellbore_chev_no_0</td>\n",
       "      <td>area_0</td>\n",
       "      <td>formation_61</td>\n",
       "      <td>bit_model_1</td>\n",
       "      <td>12.25</td>\n",
       "      <td>21840.0</td>\n",
       "      <td>21869.5</td>\n",
       "      <td>99.354021</td>\n",
       "      <td>42.382033</td>\n",
       "      <td>150.369001</td>\n",
       "    </tr>\n",
       "    <tr>\n",
       "      <th>2</th>\n",
       "      <td>wellbore_chev_no_0_729</td>\n",
       "      <td>wellbore_chev_no_0</td>\n",
       "      <td>area_0</td>\n",
       "      <td>formation_59</td>\n",
       "      <td>bit_model_1</td>\n",
       "      <td>12.25</td>\n",
       "      <td>21870.0</td>\n",
       "      <td>21899.5</td>\n",
       "      <td>83.622907</td>\n",
       "      <td>48.675129</td>\n",
       "      <td>150.429335</td>\n",
       "    </tr>\n",
       "    <tr>\n",
       "      <th>3</th>\n",
       "      <td>wellbore_chev_no_0_730</td>\n",
       "      <td>wellbore_chev_no_0</td>\n",
       "      <td>area_0</td>\n",
       "      <td>formation_65</td>\n",
       "      <td>bit_model_1</td>\n",
       "      <td>12.25</td>\n",
       "      <td>21900.0</td>\n",
       "      <td>21929.5</td>\n",
       "      <td>85.427731</td>\n",
       "      <td>30.041290</td>\n",
       "      <td>150.080000</td>\n",
       "    </tr>\n",
       "    <tr>\n",
       "      <th>4</th>\n",
       "      <td>wellbore_chev_no_0_731</td>\n",
       "      <td>wellbore_chev_no_0</td>\n",
       "      <td>area_0</td>\n",
       "      <td>formation_65</td>\n",
       "      <td>bit_model_1</td>\n",
       "      <td>12.25</td>\n",
       "      <td>21930.0</td>\n",
       "      <td>21959.5</td>\n",
       "      <td>100.639811</td>\n",
       "      <td>31.406319</td>\n",
       "      <td>150.032167</td>\n",
       "    </tr>\n",
       "  </tbody>\n",
       "</table>\n",
       "</div>"
      ],
      "text/plain": [
       "               segment_id wellbore_chev_no_id area_id  formation_id  \\\n",
       "0  wellbore_chev_no_0_727  wellbore_chev_no_0  area_0  formation_62   \n",
       "1  wellbore_chev_no_0_728  wellbore_chev_no_0  area_0  formation_61   \n",
       "2  wellbore_chev_no_0_729  wellbore_chev_no_0  area_0  formation_59   \n",
       "3  wellbore_chev_no_0_730  wellbore_chev_no_0  area_0  formation_65   \n",
       "4  wellbore_chev_no_0_731  wellbore_chev_no_0  area_0  formation_65   \n",
       "\n",
       "  bit_model_id  drillbit_size  min_depth  max_depth  rate_of_penetration  \\\n",
       "0  bit_model_1          12.25    21834.5    21839.5            99.614650   \n",
       "1  bit_model_1          12.25    21840.0    21869.5            99.354021   \n",
       "2  bit_model_1          12.25    21870.0    21899.5            83.622907   \n",
       "3  bit_model_1          12.25    21900.0    21929.5            85.427731   \n",
       "4  bit_model_1          12.25    21930.0    21959.5           100.639811   \n",
       "\n",
       "   surface_weight_on_bit  surface_rpm  \n",
       "0              43.533280   150.369091  \n",
       "1              42.382033   150.369001  \n",
       "2              48.675129   150.429335  \n",
       "3              30.041290   150.080000  \n",
       "4              31.406319   150.032167  "
      ]
     },
     "execution_count": 9,
     "metadata": {},
     "output_type": "execute_result"
    }
   ],
   "source": [
    "df.head()"
   ]
  },
  {
   "cell_type": "code",
   "execution_count": 193,
   "metadata": {},
   "outputs": [
    {
     "data": {
      "text/plain": [
       "area_id\n",
       "area_0    2872\n",
       "area_1    3966\n",
       "dtype: int64"
      ]
     },
     "execution_count": 193,
     "metadata": {},
     "output_type": "execute_result"
    }
   ],
   "source": [
    "#df.groupby('segment_id').size()\n",
    "df.groupby('area_id').size()"
   ]
  },
  {
   "cell_type": "code",
   "execution_count": 29,
   "metadata": {},
   "outputs": [
    {
     "data": {
      "image/png": "[encoded data removed]",
      "text/plain": [
       "<Figure size 576x432 with 1 Axes>"
      ]
     },
     "metadata": {
      "needs_background": "light"
     },
     "output_type": "display_data"
    }
   ],
   "source": [
    "bit_model_id = df.groupby('bit_model_id').size()\n",
    "\n",
    "sns.distplot(bit_model_id, bins = 60);"
   ]
  },
  {
   "cell_type": "code",
   "execution_count": 109,
   "metadata": {},
   "outputs": [
    {
     "data": {
      "image/png": "[encoded data removed]",
      "text/plain": [
       "<Figure size 576x432 with 1 Axes>"
      ]
     },
     "metadata": {
      "needs_background": "light"
     },
     "output_type": "display_data"
    }
   ],
   "source": [
    "target = sns.distplot(df.rate_of_penetration);\n",
    "target;\n",
    "#sns.distplot();"
   ]
  },
  {
   "cell_type": "code",
   "execution_count": 32,
   "metadata": {},
   "outputs": [
    {
     "data": {
      "text/plain": [
       "38"
      ]
     },
     "execution_count": 32,
     "metadata": {},
     "output_type": "execute_result"
    }
   ],
   "source": [
    "len(bit_model_id)"
   ]
  },
  {
   "cell_type": "code",
   "execution_count": null,
   "metadata": {},
   "outputs": [],
   "source": []
  },
  {
   "cell_type": "code",
   "execution_count": 22,
   "metadata": {},
   "outputs": [
    {
     "data": {
      "text/plain": [
       "[<matplotlib.lines.Line2D at 0x1a13100438>]"
      ]
     },
     "execution_count": 22,
     "metadata": {},
     "output_type": "execute_result"
    },
    {
     "data": {
      "image/png": "[encoded data removed]",
      "text/plain": [
       "<Figure size 576x432 with 1 Axes>"
      ]
     },
     "metadata": {
      "needs_background": "light"
     },
     "output_type": "display_data"
    }
   ],
   "source": [
    "plt.plot(df.groupby('bit_model_id').size())"
   ]
  },
  {
   "cell_type": "code",
   "execution_count": 24,
   "metadata": {},
   "outputs": [
    {
     "data": {
      "text/plain": [
       "[<matplotlib.lines.Line2D at 0x1a13262f98>]"
      ]
     },
     "execution_count": 24,
     "metadata": {},
     "output_type": "execute_result"
    },
    {
     "data": {
      "image/png": "[encoded data removed]",
      "text/plain": [
       "<Figure size 576x432 with 1 Axes>"
      ]
     },
     "metadata": {
      "needs_background": "light"
     },
     "output_type": "display_data"
    }
   ],
   "source": [
    "plt.plot(df.groupby('formation_id').size())"
   ]
  },
  {
   "cell_type": "code",
   "execution_count": null,
   "metadata": {},
   "outputs": [],
   "source": []
  },
  {
   "cell_type": "code",
   "execution_count": 196,
   "metadata": {},
   "outputs": [
    {
     "name": "stdout",
     "output_type": "stream",
     "text": [
      "11\n",
      "{'formation_id', 'surface_weight_on_bit', 'wellbore_chev_no_id', 'surface_rpm', 'bit_model_id', 'min_depth', 'drillbit_size', 'area_id', 'rate_of_penetration', 'segment_id', 'max_depth'}\n"
     ]
    }
   ],
   "source": [
    "X = df.iloc[:,5:]\n",
    "#X = X.copy().\n",
    "print(len(X_columns))\n",
    "print(X_columns)"
   ]
  },
  {
   "cell_type": "code",
   "execution_count": 197,
   "metadata": {},
   "outputs": [
    {
     "data": {
      "text/html": [
       "<div>\n",
       "<style scoped>\n",
       "    .dataframe tbody tr th:only-of-type {\n",
       "        vertical-align: middle;\n",
       "    }\n",
       "\n",
       "    .dataframe tbody tr th {\n",
       "        vertical-align: top;\n",
       "    }\n",
       "\n",
       "    .dataframe thead th {\n",
       "        text-align: right;\n",
       "    }\n",
       "</style>\n",
       "<table border=\"1\" class=\"dataframe\">\n",
       "  <thead>\n",
       "    <tr style=\"text-align: right;\">\n",
       "      <th></th>\n",
       "      <th>drillbit_size</th>\n",
       "      <th>min_depth</th>\n",
       "      <th>max_depth</th>\n",
       "      <th>surface_weight_on_bit</th>\n",
       "      <th>surface_rpm</th>\n",
       "    </tr>\n",
       "  </thead>\n",
       "  <tbody>\n",
       "    <tr>\n",
       "      <th>0</th>\n",
       "      <td>12.25</td>\n",
       "      <td>21834.5</td>\n",
       "      <td>21839.5</td>\n",
       "      <td>43.533280</td>\n",
       "      <td>150.369091</td>\n",
       "    </tr>\n",
       "    <tr>\n",
       "      <th>1</th>\n",
       "      <td>12.25</td>\n",
       "      <td>21840.0</td>\n",
       "      <td>21869.5</td>\n",
       "      <td>42.382033</td>\n",
       "      <td>150.369001</td>\n",
       "    </tr>\n",
       "    <tr>\n",
       "      <th>2</th>\n",
       "      <td>12.25</td>\n",
       "      <td>21870.0</td>\n",
       "      <td>21899.5</td>\n",
       "      <td>48.675129</td>\n",
       "      <td>150.429335</td>\n",
       "    </tr>\n",
       "    <tr>\n",
       "      <th>3</th>\n",
       "      <td>12.25</td>\n",
       "      <td>21900.0</td>\n",
       "      <td>21929.5</td>\n",
       "      <td>30.041290</td>\n",
       "      <td>150.080000</td>\n",
       "    </tr>\n",
       "    <tr>\n",
       "      <th>4</th>\n",
       "      <td>12.25</td>\n",
       "      <td>21930.0</td>\n",
       "      <td>21959.5</td>\n",
       "      <td>31.406319</td>\n",
       "      <td>150.032167</td>\n",
       "    </tr>\n",
       "  </tbody>\n",
       "</table>\n",
       "</div>"
      ],
      "text/plain": [
       "   drillbit_size  min_depth  max_depth  surface_weight_on_bit  surface_rpm\n",
       "0          12.25    21834.5    21839.5              43.533280   150.369091\n",
       "1          12.25    21840.0    21869.5              42.382033   150.369001\n",
       "2          12.25    21870.0    21899.5              48.675129   150.429335\n",
       "3          12.25    21900.0    21929.5              30.041290   150.080000\n",
       "4          12.25    21930.0    21959.5              31.406319   150.032167"
      ]
     },
     "metadata": {},
     "output_type": "display_data"
    },
    {
     "data": {
      "text/plain": [
       "0     99.614650\n",
       "1     99.354021\n",
       "2     83.622907\n",
       "3     85.427731\n",
       "4    100.639811\n",
       "Name: rate_of_penetration, dtype: float64"
      ]
     },
     "metadata": {},
     "output_type": "display_data"
    }
   ],
   "source": [
    "X = df.iloc[:,5:]\n",
    "X = X.copy().drop('rate_of_penetration', axis = 1)\n",
    "display(X.head())\n",
    "\n",
    "y = df['rate_of_penetration']\n",
    "display(y.head())"
   ]
  },
  {
   "cell_type": "code",
   "execution_count": null,
   "metadata": {},
   "outputs": [],
   "source": []
  },
  {
   "cell_type": "code",
   "execution_count": null,
   "metadata": {},
   "outputs": [],
   "source": []
  },
  {
   "cell_type": "code",
   "execution_count": 166,
   "metadata": {},
   "outputs": [],
   "source": [
    "#X = X.copy().drop('max_depth', axis=1)"
   ]
  },
  {
   "cell_type": "code",
   "execution_count": 212,
   "metadata": {},
   "outputs": [
    {
     "name": "stdout",
     "output_type": "stream",
     "text": [
      "(6154, 5) (684, 5) (6154,) (684,)\n"
     ]
    }
   ],
   "source": [
    "X_train,X_test,y_train,y_test = model_selection.train_test_split(X,y,test_size=0.1)\n",
    "print(X_train.shape, X_test.shape, y_train.shape, y_test.shape)"
   ]
  },
  {
   "cell_type": "code",
   "execution_count": 213,
   "metadata": {},
   "outputs": [],
   "source": [
    "from sklearn.ensemble import RandomForestRegressor\n",
    "from sklearn.metrics import mean_squared_error as mse\n",
    "#from sklearn\n",
    "\n",
    "forest = RandomForestRegressor(max_depth = 15, n_estimators = 100)\n",
    "#forest = RandomForestRegressor()\n",
    "forest.fit(X_train, y_train)\n",
    "\n",
    "forest_predictions = forest.predict(X_test)\n",
    "score = forest.score(X_test, y_test)"
   ]
  },
  {
   "cell_type": "code",
   "execution_count": 214,
   "metadata": {
    "scrolled": true
   },
   "outputs": [
    {
     "name": "stdout",
     "output_type": "stream",
     "text": [
      "Training Mean Squared Error: 82.81360999372059\n",
      "Testing Mean Squared Error: 371.6273651644556\n"
     ]
    }
   ],
   "source": [
    "#training performance:\n",
    "train_predict = forest.predict(X_train)\n",
    "score = forest.score(X_train, y_train)\n",
    "\n",
    "test_predict = forest.predict(X_test)\n",
    "score = mse(y_test, test_predict)\n",
    "\n",
    "# plt.plot(range(y_test.shape[0]),test_predict, label = 'Random Forest Model', alpha = 1);\n",
    "# plt.plot(range(y_test.shape[0]),y_test, label = \"y_train\", alpha= .5);\n",
    "# plt.legend()\n",
    "# plt.title(\"Random Forest Model Training performance\");\n",
    "print(\"Training Mean Squared Error:\", mse(y_train, train_predict))\n",
    "print(\"Testing Mean Squared Error:\",mse(y_test, test_predict))"
   ]
  },
  {
   "cell_type": "markdown",
   "metadata": {},
   "source": [
    "## NEW TRAINING DATA"
   ]
  },
  {
   "cell_type": "code",
   "execution_count": 243,
   "metadata": {},
   "outputs": [],
   "source": [
    "X_ntrain, X_ntest, y_ntrain, y_ntest = model_selection.train_test_split(X,y,test_size=0.2)"
   ]
  },
  {
   "cell_type": "code",
   "execution_count": 244,
   "metadata": {},
   "outputs": [
    {
     "name": "stdout",
     "output_type": "stream",
     "text": [
      "Training Mean Squared Error: 94.47655238839302\n",
      "Testing Mean Squared Error: 342.3733811512725\n"
     ]
    }
   ],
   "source": [
    "forest_new = RandomForestRegressor(max_depth = 15, n_estimators = 100, min_samples_split = 3)\n",
    "#forest = RandomForestRegressor()\n",
    "forest_new.fit(X_train, y_train)\n",
    "\n",
    "forest_predictions = forest_new.predict(X_test)\n",
    "score = forest_new.score(X_test, y_test)\n",
    "\n",
    "train_predict = forest_new.predict(X_train)\n",
    "score = forest_new.score(X_train, y_train)\n",
    "\n",
    "test_predict = forest_new.predict(X_test)\n",
    "score = mse(y_test, test_predict)\n",
    "\n",
    "# plt.plot(range(y_test.shape[0]),test_predict, label = 'Random Forest Model', alpha = 1);\n",
    "# plt.plot(range(y_test.shape[0]),y_test, label = \"y_train\", alpha= .5);\n",
    "# plt.legend()\n",
    "# plt.title(\"Random Forest Model Training performance\");\n",
    "print(\"Training Mean Squared Error:\", mse(y_train, train_predict))\n",
    "print(\"Testing Mean Squared Error:\",mse(y_test, test_predict))"
   ]
  },
  {
   "cell_type": "code",
   "execution_count": 245,
   "metadata": {},
   "outputs": [],
   "source": [
    "import pickle\n",
    "pickle.dump(forest_new, open( \"forest_mss3.p\", \"wb\" ) )"
   ]
  },
  {
   "cell_type": "code",
   "execution_count": 232,
   "metadata": {},
   "outputs": [
    {
     "data": {
      "text/plain": [
       "Index(['drillbit_size', 'min_depth', 'max_depth', 'surface_weight_on_bit',\n",
       "       'surface_rpm'],\n",
       "      dtype='object')"
      ]
     },
     "execution_count": 232,
     "metadata": {},
     "output_type": "execute_result"
    }
   ],
   "source": [
    "X.columns"
   ]
  },
  {
   "cell_type": "code",
   "execution_count": 78,
   "metadata": {},
   "outputs": [
    {
     "data": {
      "text/plain": [
       "(6154,)"
      ]
     },
     "execution_count": 78,
     "metadata": {},
     "output_type": "execute_result"
    }
   ],
   "source": [
    "train_predict.shape"
   ]
  },
  {
   "cell_type": "code",
   "execution_count": 135,
   "metadata": {},
   "outputs": [
    {
     "name": "stdout",
     "output_type": "stream",
     "text": [
      "CV with 150 trees:\n",
      "[-386.99032058 -571.71669063 -478.8151719  -367.41838591 -292.235018\n",
      " -493.4085911  -671.67077214 -384.85870818]\n",
      "avg= 455.88920730496466\n",
      "CV with 155 trees:\n",
      "[-388.79889491 -576.2152784  -477.80030525 -386.63604822 -282.95293197\n",
      " -488.92744025 -634.85658253 -400.32108554]\n",
      "avg= 454.56357088255294\n",
      "CV with 160 trees:\n",
      "[-388.08279004 -571.30577818 -483.68550316 -366.846959   -303.6053739\n",
      " -489.20610463 -628.15123519 -388.4969521 ]\n",
      "avg= 452.4225870228347\n",
      "CV with 165 trees:\n",
      "[-389.58492221 -573.45390237 -473.07065668 -374.79570391 -296.92069337\n",
      " -479.15763096 -639.343237   -387.07184236]\n",
      "avg= 451.6748236067285\n",
      "CV with 170 trees:\n",
      "[-389.61130459 -578.59820393 -497.07580045 -370.12848009 -289.54408325\n",
      " -488.67463034 -656.37217681 -406.24475185]\n",
      "avg= 459.5311789145717\n",
      "CV with 175 trees:\n",
      "[-388.95576082 -579.9526721  -482.60325174 -376.09507777 -289.27393006\n",
      " -493.63710518 -625.07287869 -389.85493654]\n",
      "avg= 453.1807016127823\n",
      "CV with 180 trees:\n",
      "[-376.96430324 -560.55193926 -487.70610311 -376.66505705 -282.02724811\n",
      " -493.11274855 -644.9588511  -385.82330331]\n",
      "avg= 450.9761942159446\n",
      "CV with 185 trees:\n",
      "[-378.16047052 -579.26260106 -481.73924812 -370.62069164 -292.76079026\n",
      " -477.5499497  -629.7029444  -391.73103682]\n",
      "avg= 450.1909665655892\n",
      "CV with 190 trees:\n",
      "[-394.24493553 -568.93404244 -475.17752944 -370.53090017 -293.26764222\n",
      " -479.97438535 -622.11067801 -381.28146673]\n",
      "avg= 448.19019748482526\n",
      "CV with 195 trees:\n",
      "[-374.9031874  -586.05260345 -469.31165466 -362.13813031 -294.07081628\n",
      " -488.79891055 -631.55309989 -377.74814783]\n",
      "avg= 448.0720687961491\n"
     ]
    }
   ],
   "source": [
    "h = []\n",
    "for n_trees in np.arange(150,200,5):\n",
    "    rfc = RandomForestRegressor(n_estimators = n_trees)\n",
    "    rfc_cv_scores = model_selection.cross_val_score(rfc, X_train, y_train, scoring = 'neg_mean_squared_error',cv=8)\n",
    "    print(\"CV with {} trees:\".format(n_trees))\n",
    "    print(rfc_cv_scores)\n",
    "    print(\"avg= {}\".format(np.mean(np.abs(rfc_cv_scores))))\n",
    "    h.append(np.mean(np.abs(rfc_cv_scores)))"
   ]
  },
  {
   "cell_type": "code",
   "execution_count": null,
   "metadata": {},
   "outputs": [],
   "source": []
  },
  {
   "cell_type": "code",
   "execution_count": 142,
   "metadata": {},
   "outputs": [
    {
     "data": {
      "image/png": "[encoded data removed]",
      "text/plain": [
       "<Figure size 576x432 with 1 Axes>"
      ]
     },
     "metadata": {
      "needs_background": "light"
     },
     "output_type": "display_data"
    }
   ],
   "source": [
    "plt.plot(np.arange(150, 200, 5), h, label ='n_estimators', c='b');"
   ]
  },
  {
   "cell_type": "code",
   "execution_count": 134,
   "metadata": {},
   "outputs": [
    {
     "data": {
      "image/png": "[encoded data removed]",
      "text/plain": [
       "<Figure size 576x432 with 1 Axes>"
      ]
     },
     "metadata": {
      "needs_background": "light"
     },
     "output_type": "display_data"
    }
   ],
   "source": [
    "plt.plot(np.arange(10,160,20), h, label ='n_estimators', c='b');"
   ]
  },
  {
   "cell_type": "code",
   "execution_count": 191,
   "metadata": {},
   "outputs": [],
   "source": [
    "train_sizes, train_scores, valid_scores = model_selection.learning_curve(\n",
    "    RandomForestRegressor(n_estimators = 100),\n",
    "    X_train, y_train, train_sizes=np.linspace(.1,1,10),scoring = 'neg_mean_squared_error',\n",
    "    cv=10)"
   ]
  },
  {
   "cell_type": "code",
   "execution_count": 192,
   "metadata": {},
   "outputs": [
    {
     "data": {
      "text/plain": [
       "<matplotlib.legend.Legend at 0x1a13815748>"
      ]
     },
     "execution_count": 192,
     "metadata": {},
     "output_type": "execute_result"
    },
    {
     "data": {
      "image/png": "[encoded data removed]",
      "text/plain": [
       "<Figure size 576x432 with 1 Axes>"
      ]
     },
     "metadata": {
      "needs_background": "light"
     },
     "output_type": "display_data"
    }
   ],
   "source": [
    "plt.plot(train_sizes, -valid_scores.mean(1), 'o-', color=\"r\", label = 'validation')\n",
    "plt.plot(train_sizes, -train_scores.mean(1), 'o-', color=\"g\", label = 'training')\n",
    "plt.title('Learning Curves')\n",
    "plt.legend()"
   ]
  },
  {
   "cell_type": "code",
   "execution_count": null,
   "metadata": {},
   "outputs": [],
   "source": []
  },
  {
   "cell_type": "markdown",
   "metadata": {},
   "source": [
    "# Target Encoding - using categorical variables to the fullest extent"
   ]
  },
  {
   "cell_type": "code",
   "execution_count": 395,
   "metadata": {},
   "outputs": [
    {
     "data": {
      "text/html": [
       "<div>\n",
       "<style scoped>\n",
       "    .dataframe tbody tr th:only-of-type {\n",
       "        vertical-align: middle;\n",
       "    }\n",
       "\n",
       "    .dataframe tbody tr th {\n",
       "        vertical-align: top;\n",
       "    }\n",
       "\n",
       "    .dataframe thead th {\n",
       "        text-align: right;\n",
       "    }\n",
       "</style>\n",
       "<table border=\"1\" class=\"dataframe\">\n",
       "  <thead>\n",
       "    <tr style=\"text-align: right;\">\n",
       "      <th></th>\n",
       "      <th>segment_id</th>\n",
       "      <th>wellbore_chev_no_id</th>\n",
       "      <th>area_id</th>\n",
       "      <th>formation_id</th>\n",
       "      <th>bit_model_id</th>\n",
       "      <th>drillbit_size</th>\n",
       "      <th>min_depth</th>\n",
       "      <th>max_depth</th>\n",
       "      <th>rate_of_penetration</th>\n",
       "      <th>surface_weight_on_bit</th>\n",
       "      <th>surface_rpm</th>\n",
       "    </tr>\n",
       "  </thead>\n",
       "  <tbody>\n",
       "    <tr>\n",
       "      <th>0</th>\n",
       "      <td>wellbore_chev_no_0_727</td>\n",
       "      <td>wellbore_chev_no_0</td>\n",
       "      <td>area_0</td>\n",
       "      <td>formation_62</td>\n",
       "      <td>bit_model_1</td>\n",
       "      <td>12.25</td>\n",
       "      <td>21834.5</td>\n",
       "      <td>21839.5</td>\n",
       "      <td>99.614650</td>\n",
       "      <td>43.533280</td>\n",
       "      <td>150.369091</td>\n",
       "    </tr>\n",
       "    <tr>\n",
       "      <th>1</th>\n",
       "      <td>wellbore_chev_no_0_728</td>\n",
       "      <td>wellbore_chev_no_0</td>\n",
       "      <td>area_0</td>\n",
       "      <td>formation_61</td>\n",
       "      <td>bit_model_1</td>\n",
       "      <td>12.25</td>\n",
       "      <td>21840.0</td>\n",
       "      <td>21869.5</td>\n",
       "      <td>99.354021</td>\n",
       "      <td>42.382033</td>\n",
       "      <td>150.369001</td>\n",
       "    </tr>\n",
       "    <tr>\n",
       "      <th>2</th>\n",
       "      <td>wellbore_chev_no_0_729</td>\n",
       "      <td>wellbore_chev_no_0</td>\n",
       "      <td>area_0</td>\n",
       "      <td>formation_59</td>\n",
       "      <td>bit_model_1</td>\n",
       "      <td>12.25</td>\n",
       "      <td>21870.0</td>\n",
       "      <td>21899.5</td>\n",
       "      <td>83.622907</td>\n",
       "      <td>48.675129</td>\n",
       "      <td>150.429335</td>\n",
       "    </tr>\n",
       "    <tr>\n",
       "      <th>3</th>\n",
       "      <td>wellbore_chev_no_0_730</td>\n",
       "      <td>wellbore_chev_no_0</td>\n",
       "      <td>area_0</td>\n",
       "      <td>formation_65</td>\n",
       "      <td>bit_model_1</td>\n",
       "      <td>12.25</td>\n",
       "      <td>21900.0</td>\n",
       "      <td>21929.5</td>\n",
       "      <td>85.427731</td>\n",
       "      <td>30.041290</td>\n",
       "      <td>150.080000</td>\n",
       "    </tr>\n",
       "    <tr>\n",
       "      <th>4</th>\n",
       "      <td>wellbore_chev_no_0_731</td>\n",
       "      <td>wellbore_chev_no_0</td>\n",
       "      <td>area_0</td>\n",
       "      <td>formation_65</td>\n",
       "      <td>bit_model_1</td>\n",
       "      <td>12.25</td>\n",
       "      <td>21930.0</td>\n",
       "      <td>21959.5</td>\n",
       "      <td>100.639811</td>\n",
       "      <td>31.406319</td>\n",
       "      <td>150.032167</td>\n",
       "    </tr>\n",
       "  </tbody>\n",
       "</table>\n",
       "</div>"
      ],
      "text/plain": [
       "               segment_id wellbore_chev_no_id area_id  formation_id  \\\n",
       "0  wellbore_chev_no_0_727  wellbore_chev_no_0  area_0  formation_62   \n",
       "1  wellbore_chev_no_0_728  wellbore_chev_no_0  area_0  formation_61   \n",
       "2  wellbore_chev_no_0_729  wellbore_chev_no_0  area_0  formation_59   \n",
       "3  wellbore_chev_no_0_730  wellbore_chev_no_0  area_0  formation_65   \n",
       "4  wellbore_chev_no_0_731  wellbore_chev_no_0  area_0  formation_65   \n",
       "\n",
       "  bit_model_id  drillbit_size  min_depth  max_depth  rate_of_penetration  \\\n",
       "0  bit_model_1          12.25    21834.5    21839.5            99.614650   \n",
       "1  bit_model_1          12.25    21840.0    21869.5            99.354021   \n",
       "2  bit_model_1          12.25    21870.0    21899.5            83.622907   \n",
       "3  bit_model_1          12.25    21900.0    21929.5            85.427731   \n",
       "4  bit_model_1          12.25    21930.0    21959.5           100.639811   \n",
       "\n",
       "   surface_weight_on_bit  surface_rpm  \n",
       "0              43.533280   150.369091  \n",
       "1              42.382033   150.369001  \n",
       "2              48.675129   150.429335  \n",
       "3              30.041290   150.080000  \n",
       "4              31.406319   150.032167  "
      ]
     },
     "execution_count": 395,
     "metadata": {},
     "output_type": "execute_result"
    }
   ],
   "source": [
    "X_copy = df.copy()\n",
    "X_copy.head()"
   ]
  },
  {
   "cell_type": "code",
   "execution_count": 396,
   "metadata": {},
   "outputs": [],
   "source": [
    "X_train, X_test, y_test, y_train = model_selection.train_test_split(X_copy,y,test_size=0.2)\n"
   ]
  },
  {
   "cell_type": "code",
   "execution_count": 398,
   "metadata": {},
   "outputs": [
    {
     "name": "stderr",
     "output_type": "stream",
     "text": [
      "/anaconda3/lib/python3.7/site-packages/ipykernel_launcher.py:3: SettingWithCopyWarning: \n",
      "A value is trying to be set on a copy of a slice from a DataFrame.\n",
      "Try using .loc[row_indexer,col_indexer] = value instead\n",
      "\n",
      "See the caveats in the documentation: http://pandas.pydata.org/pandas-docs/stable/indexing.html#indexing-view-versus-copy\n",
      "  This is separate from the ipykernel package so we can avoid doing imports until\n"
     ]
    },
    {
     "data": {
      "text/html": [
       "<div>\n",
       "<style scoped>\n",
       "    .dataframe tbody tr th:only-of-type {\n",
       "        vertical-align: middle;\n",
       "    }\n",
       "\n",
       "    .dataframe tbody tr th {\n",
       "        vertical-align: top;\n",
       "    }\n",
       "\n",
       "    .dataframe thead th {\n",
       "        text-align: right;\n",
       "    }\n",
       "</style>\n",
       "<table border=\"1\" class=\"dataframe\">\n",
       "  <thead>\n",
       "    <tr style=\"text-align: right;\">\n",
       "      <th></th>\n",
       "      <th>segment_id</th>\n",
       "      <th>wellbore_chev_no_id</th>\n",
       "      <th>area_id</th>\n",
       "      <th>formation_id</th>\n",
       "      <th>bit_model_id</th>\n",
       "      <th>drillbit_size</th>\n",
       "      <th>min_depth</th>\n",
       "      <th>max_depth</th>\n",
       "      <th>rate_of_penetration</th>\n",
       "      <th>surface_weight_on_bit</th>\n",
       "      <th>surface_rpm</th>\n",
       "      <th>formation_id encode</th>\n",
       "    </tr>\n",
       "  </thead>\n",
       "  <tbody>\n",
       "    <tr>\n",
       "      <th>3811</th>\n",
       "      <td>wellbore_chev_no_3_442</td>\n",
       "      <td>wellbore_chev_no_3</td>\n",
       "      <td>area_0</td>\n",
       "      <td>formation_231</td>\n",
       "      <td>bit_model_20</td>\n",
       "      <td>16.500</td>\n",
       "      <td>13260.0</td>\n",
       "      <td>13289.50</td>\n",
       "      <td>114.020499</td>\n",
       "      <td>23.682833</td>\n",
       "      <td>150.358166</td>\n",
       "      <td>133.318874</td>\n",
       "    </tr>\n",
       "    <tr>\n",
       "      <th>6120</th>\n",
       "      <td>wellbore_chev_no_8_674</td>\n",
       "      <td>wellbore_chev_no_8</td>\n",
       "      <td>area_1</td>\n",
       "      <td>formation_213</td>\n",
       "      <td>bit_model_10</td>\n",
       "      <td>18.125</td>\n",
       "      <td>20220.0</td>\n",
       "      <td>20249.50</td>\n",
       "      <td>116.252974</td>\n",
       "      <td>21.087151</td>\n",
       "      <td>139.915318</td>\n",
       "      <td>96.511463</td>\n",
       "    </tr>\n",
       "    <tr>\n",
       "      <th>6343</th>\n",
       "      <td>wellbore_chev_no_8_897</td>\n",
       "      <td>wellbore_chev_no_8</td>\n",
       "      <td>area_1</td>\n",
       "      <td>formation_15</td>\n",
       "      <td>bit_model_29</td>\n",
       "      <td>12.250</td>\n",
       "      <td>26910.0</td>\n",
       "      <td>26939.50</td>\n",
       "      <td>118.748464</td>\n",
       "      <td>44.090645</td>\n",
       "      <td>180.079217</td>\n",
       "      <td>76.874355</td>\n",
       "    </tr>\n",
       "    <tr>\n",
       "      <th>1424</th>\n",
       "      <td>wellbore_chev_no_17_804</td>\n",
       "      <td>wellbore_chev_no_17</td>\n",
       "      <td>area_0</td>\n",
       "      <td>formation_82</td>\n",
       "      <td>bit_model_28</td>\n",
       "      <td>12.250</td>\n",
       "      <td>24120.0</td>\n",
       "      <td>24149.50</td>\n",
       "      <td>128.304557</td>\n",
       "      <td>38.272249</td>\n",
       "      <td>160.756334</td>\n",
       "      <td>77.289925</td>\n",
       "    </tr>\n",
       "    <tr>\n",
       "      <th>3726</th>\n",
       "      <td>wellbore_chev_no_24_983</td>\n",
       "      <td>wellbore_chev_no_24</td>\n",
       "      <td>area_1</td>\n",
       "      <td>formation_166</td>\n",
       "      <td>bit_model_31</td>\n",
       "      <td>12.250</td>\n",
       "      <td>29490.0</td>\n",
       "      <td>29519.75</td>\n",
       "      <td>60.850083</td>\n",
       "      <td>50.999500</td>\n",
       "      <td>147.225000</td>\n",
       "      <td>68.692618</td>\n",
       "    </tr>\n",
       "  </tbody>\n",
       "</table>\n",
       "</div>"
      ],
      "text/plain": [
       "                   segment_id  wellbore_chev_no_id area_id   formation_id  \\\n",
       "3811   wellbore_chev_no_3_442   wellbore_chev_no_3  area_0  formation_231   \n",
       "6120   wellbore_chev_no_8_674   wellbore_chev_no_8  area_1  formation_213   \n",
       "6343   wellbore_chev_no_8_897   wellbore_chev_no_8  area_1   formation_15   \n",
       "1424  wellbore_chev_no_17_804  wellbore_chev_no_17  area_0   formation_82   \n",
       "3726  wellbore_chev_no_24_983  wellbore_chev_no_24  area_1  formation_166   \n",
       "\n",
       "      bit_model_id  drillbit_size  min_depth  max_depth  rate_of_penetration  \\\n",
       "3811  bit_model_20         16.500    13260.0   13289.50           114.020499   \n",
       "6120  bit_model_10         18.125    20220.0   20249.50           116.252974   \n",
       "6343  bit_model_29         12.250    26910.0   26939.50           118.748464   \n",
       "1424  bit_model_28         12.250    24120.0   24149.50           128.304557   \n",
       "3726  bit_model_31         12.250    29490.0   29519.75            60.850083   \n",
       "\n",
       "      surface_weight_on_bit  surface_rpm  formation_id encode  \n",
       "3811              23.682833   150.358166           133.318874  \n",
       "6120              21.087151   139.915318            96.511463  \n",
       "6343              44.090645   180.079217            76.874355  \n",
       "1424              38.272249   160.756334            77.289925  \n",
       "3726              50.999500   147.225000            68.692618  "
      ]
     },
     "execution_count": 398,
     "metadata": {},
     "output_type": "execute_result"
    }
   ],
   "source": [
    "means = X_train.groupby('formation_id')['rate_of_penetration'].mean()\n",
    "# print(means)\n",
    "X_train['formation_id' + ' encode'] = X_train['formation_id'].map(means);\n",
    "X_train.head()\n",
    "#np.isnan(X_train).sum()"
   ]
  },
  {
   "cell_type": "code",
   "execution_count": 399,
   "metadata": {},
   "outputs": [
    {
     "data": {
      "text/plain": [
       "3811    133.318874\n",
       "6120     96.511463\n",
       "6343     76.874355\n",
       "1424     77.289925\n",
       "3726     68.692618\n",
       "76       73.928569\n",
       "5832    129.755291\n",
       "457     129.755291\n",
       "1762    133.318874\n",
       "5584     72.571874\n",
       "590     129.755291\n",
       "4768    129.755291\n",
       "5267    129.755291\n",
       "2651    141.180586\n",
       "5967    129.755291\n",
       "2309    129.755291\n",
       "2021    133.318874\n",
       "1624     51.309044\n",
       "446      38.586782\n",
       "1636    133.318874\n",
       "2434    129.755291\n",
       "360      93.423179\n",
       "5861    129.755291\n",
       "6316     84.856526\n",
       "5665     76.874355\n",
       "270      93.423179\n",
       "6837     56.670754\n",
       "3488    114.172597\n",
       "4472    129.755291\n",
       "1181     92.518450\n",
       "           ...    \n",
       "2316    129.755291\n",
       "5072    129.755291\n",
       "6605    145.538069\n",
       "700     129.755291\n",
       "3162     63.607235\n",
       "4646    129.755291\n",
       "966     200.591876\n",
       "4764    129.755291\n",
       "4122     73.376432\n",
       "4525    129.755291\n",
       "144      89.654509\n",
       "2394    129.755291\n",
       "4083     87.036511\n",
       "6437    133.318874\n",
       "1527     84.706404\n",
       "6833     66.593534\n",
       "3634     90.354329\n",
       "1069    200.591876\n",
       "1350    132.165928\n",
       "6069    129.755291\n",
       "5565     91.520131\n",
       "3439    100.334715\n",
       "2484    129.755291\n",
       "5655     87.393629\n",
       "724     129.755291\n",
       "5346    129.755291\n",
       "1686    133.318874\n",
       "1263     81.079501\n",
       "2016    133.318874\n",
       "5870    129.755291\n",
       "Name: formation_id encode, Length: 5470, dtype: float64"
      ]
     },
     "execution_count": 399,
     "metadata": {},
     "output_type": "execute_result"
    }
   ],
   "source": [
    "X_train['formation_id encode']"
   ]
  },
  {
   "cell_type": "code",
   "execution_count": 377,
   "metadata": {
    "scrolled": true
   },
   "outputs": [
    {
     "name": "stdout",
     "output_type": "stream",
     "text": [
      "236\n"
     ]
    },
    {
     "data": {
      "text/plain": [
       "236"
      ]
     },
     "execution_count": 377,
     "metadata": {},
     "output_type": "execute_result"
    }
   ],
   "source": [
    "encoded['formation_id']\n",
    "print(len(means))\n",
    "len(X_train.groupby('formation_id').size())"
   ]
  },
  {
   "cell_type": "code",
   "execution_count": 370,
   "metadata": {},
   "outputs": [
    {
     "data": {
      "text/plain": [
       "5470"
      ]
     },
     "execution_count": 370,
     "metadata": {},
     "output_type": "execute_result"
    }
   ],
   "source": [
    "len(means)"
   ]
  },
  {
   "cell_type": "code",
   "execution_count": 378,
   "metadata": {},
   "outputs": [
    {
     "name": "stderr",
     "output_type": "stream",
     "text": [
      "/anaconda3/lib/python3.7/site-packages/ipykernel_launcher.py:5: SettingWithCopyWarning: \n",
      "A value is trying to be set on a copy of a slice from a DataFrame.\n",
      "Try using .loc[row_indexer,col_indexer] = value instead\n",
      "\n",
      "See the caveats in the documentation: http://pandas.pydata.org/pandas-docs/stable/indexing.html#indexing-view-versus-copy\n",
      "  \"\"\"\n"
     ]
    },
    {
     "data": {
      "text/html": [
       "<div>\n",
       "<style scoped>\n",
       "    .dataframe tbody tr th:only-of-type {\n",
       "        vertical-align: middle;\n",
       "    }\n",
       "\n",
       "    .dataframe tbody tr th {\n",
       "        vertical-align: top;\n",
       "    }\n",
       "\n",
       "    .dataframe thead th {\n",
       "        text-align: right;\n",
       "    }\n",
       "</style>\n",
       "<table border=\"1\" class=\"dataframe\">\n",
       "  <thead>\n",
       "    <tr style=\"text-align: right;\">\n",
       "      <th></th>\n",
       "    </tr>\n",
       "  </thead>\n",
       "  <tbody>\n",
       "  </tbody>\n",
       "</table>\n",
       "</div>"
      ],
      "text/plain": [
       "Empty DataFrame\n",
       "Columns: []\n",
       "Index: []"
      ]
     },
     "metadata": {},
     "output_type": "display_data"
    },
    {
     "data": {
      "text/plain": [
       "(0, 0)"
      ]
     },
     "execution_count": 378,
     "metadata": {},
     "output_type": "execute_result"
    }
   ],
   "source": [
    "categorical_list = ['segment_id', 'wellbore_chev_no_id', 'area_id', 'formation_id', 'bit_model_id', 'drillbit_size']\n",
    "encoded = pd.DataFrame()\n",
    "for i in categorical_list:\n",
    "    means = X_train.groupby(i)['rate_of_penetration'].mean()\n",
    "    X_train[i + 'e'] = X_train[i].map(means)\n",
    "display(encoded.head())\n",
    "X.shape"
   ]
  },
  {
   "cell_type": "code",
   "execution_count": 350,
   "metadata": {},
   "outputs": [
    {
     "data": {
      "text/plain": [
       "segment_id             1085\n",
       "wellbore_chev_no_id       0\n",
       "area_id                   0\n",
       "formation_id              8\n",
       "bit_model_id              0\n",
       "drillbit_size             0\n",
       "dtype: int64"
      ]
     },
     "execution_count": 350,
     "metadata": {},
     "output_type": "execute_result"
    }
   ],
   "source": [
    "np.isnan(encoded).sum()"
   ]
  },
  {
   "cell_type": "code",
   "execution_count": 354,
   "metadata": {},
   "outputs": [
    {
     "data": {
      "text/plain": [
       "segment_id             0\n",
       "wellbore_chev_no_id    0\n",
       "area_id                0\n",
       "formation_id           0\n",
       "bit_model_id           0\n",
       "drillbit_size          0\n",
       "dtype: int64"
      ]
     },
     "execution_count": 354,
     "metadata": {},
     "output_type": "execute_result"
    }
   ],
   "source": [
    "encoded.drop('segment_id', axis=1)\n",
    "#encoded.columns\n",
    "encoded = encoded.fillna(0)\n",
    "np.isnan(encoded).sum()"
   ]
  },
  {
   "cell_type": "code",
   "execution_count": 352,
   "metadata": {},
   "outputs": [
    {
     "data": {
      "text/plain": [
       "array([], dtype=int64)"
      ]
     },
     "execution_count": 352,
     "metadata": {},
     "output_type": "execute_result"
    }
   ],
   "source": [
    "idx = np.array(encoded.index[np.isnan(encoded)['segment_id']])\n",
    "idx\n",
    "#X_train.head()"
   ]
  },
  {
   "cell_type": "code",
   "execution_count": 359,
   "metadata": {},
   "outputs": [
    {
     "data": {
      "text/plain": [
       "(5470, 47)"
      ]
     },
     "execution_count": 359,
     "metadata": {},
     "output_type": "execute_result"
    }
   ],
   "source": [
    "X_train = pd.concat([X_train.reset_index(drop=True),encoded.reset_index(drop=True)], axis=1)\n",
    "#np.isnan(X_train).sum()\n",
    "X_train.shape"
   ]
  },
  {
   "cell_type": "code",
   "execution_count": 346,
   "metadata": {},
   "outputs": [
    {
     "ename": "TypeError",
     "evalue": "ufunc 'isnan' not supported for the input types, and the inputs could not be safely coerced to any supported types according to the casting rule ''safe''",
     "output_type": "error",
     "traceback": [
      "\u001b[0;31m---------------------------------------------------------------------------\u001b[0m",
      "\u001b[0;31mTypeError\u001b[0m                                 Traceback (most recent call last)",
      "\u001b[0;32m<ipython-input-346-232e91eb604a>\u001b[0m in \u001b[0;36m<module>\u001b[0;34m\u001b[0m\n\u001b[0;32m----> 1\u001b[0;31m \u001b[0mnp\u001b[0m\u001b[0;34m.\u001b[0m\u001b[0misnan\u001b[0m\u001b[0;34m(\u001b[0m\u001b[0mX_train\u001b[0m\u001b[0;34m)\u001b[0m\u001b[0;34m\u001b[0m\u001b[0;34m\u001b[0m\u001b[0m\n\u001b[0m",
      "\u001b[0;31mTypeError\u001b[0m: ufunc 'isnan' not supported for the input types, and the inputs could not be safely coerced to any supported types according to the casting rule ''safe''"
     ]
    }
   ],
   "source": []
  },
  {
   "cell_type": "code",
   "execution_count": 404,
   "metadata": {},
   "outputs": [
    {
     "ename": "FileNotFoundError",
     "evalue": "File b'./filesForStartOfDatathon/One Hot.csv' does not exist",
     "output_type": "error",
     "traceback": [
      "\u001b[0;31m---------------------------------------------------------------------------\u001b[0m",
      "\u001b[0;31mFileNotFoundError\u001b[0m                         Traceback (most recent call last)",
      "\u001b[0;32m<ipython-input-404-f7537aac1177>\u001b[0m in \u001b[0;36m<module>\u001b[0;34m\u001b[0m\n\u001b[0;32m----> 1\u001b[0;31m \u001b[0mpd\u001b[0m\u001b[0;34m.\u001b[0m\u001b[0mread_csv\u001b[0m\u001b[0;34m(\u001b[0m\u001b[0;34m'./filesForStartOfDatathon/One Hot.csv'\u001b[0m\u001b[0;34m)\u001b[0m\u001b[0;34m\u001b[0m\u001b[0;34m\u001b[0m\u001b[0m\n\u001b[0m",
      "\u001b[0;32m/anaconda3/lib/python3.7/site-packages/pandas/io/parsers.py\u001b[0m in \u001b[0;36mparser_f\u001b[0;34m(filepath_or_buffer, sep, delimiter, header, names, index_col, usecols, squeeze, prefix, mangle_dupe_cols, dtype, engine, converters, true_values, false_values, skipinitialspace, skiprows, nrows, na_values, keep_default_na, na_filter, verbose, skip_blank_lines, parse_dates, infer_datetime_format, keep_date_col, date_parser, dayfirst, iterator, chunksize, compression, thousands, decimal, lineterminator, quotechar, quoting, escapechar, comment, encoding, dialect, tupleize_cols, error_bad_lines, warn_bad_lines, skipfooter, doublequote, delim_whitespace, low_memory, memory_map, float_precision)\u001b[0m\n\u001b[1;32m    676\u001b[0m                     skip_blank_lines=skip_blank_lines)\n\u001b[1;32m    677\u001b[0m \u001b[0;34m\u001b[0m\u001b[0m\n\u001b[0;32m--> 678\u001b[0;31m         \u001b[0;32mreturn\u001b[0m \u001b[0m_read\u001b[0m\u001b[0;34m(\u001b[0m\u001b[0mfilepath_or_buffer\u001b[0m\u001b[0;34m,\u001b[0m \u001b[0mkwds\u001b[0m\u001b[0;34m)\u001b[0m\u001b[0;34m\u001b[0m\u001b[0;34m\u001b[0m\u001b[0m\n\u001b[0m\u001b[1;32m    679\u001b[0m \u001b[0;34m\u001b[0m\u001b[0m\n\u001b[1;32m    680\u001b[0m     \u001b[0mparser_f\u001b[0m\u001b[0;34m.\u001b[0m\u001b[0m__name__\u001b[0m \u001b[0;34m=\u001b[0m \u001b[0mname\u001b[0m\u001b[0;34m\u001b[0m\u001b[0;34m\u001b[0m\u001b[0m\n",
      "\u001b[0;32m/anaconda3/lib/python3.7/site-packages/pandas/io/parsers.py\u001b[0m in \u001b[0;36m_read\u001b[0;34m(filepath_or_buffer, kwds)\u001b[0m\n\u001b[1;32m    438\u001b[0m \u001b[0;34m\u001b[0m\u001b[0m\n\u001b[1;32m    439\u001b[0m     \u001b[0;31m# Create the parser.\u001b[0m\u001b[0;34m\u001b[0m\u001b[0;34m\u001b[0m\u001b[0;34m\u001b[0m\u001b[0m\n\u001b[0;32m--> 440\u001b[0;31m     \u001b[0mparser\u001b[0m \u001b[0;34m=\u001b[0m \u001b[0mTextFileReader\u001b[0m\u001b[0;34m(\u001b[0m\u001b[0mfilepath_or_buffer\u001b[0m\u001b[0;34m,\u001b[0m \u001b[0;34m**\u001b[0m\u001b[0mkwds\u001b[0m\u001b[0;34m)\u001b[0m\u001b[0;34m\u001b[0m\u001b[0;34m\u001b[0m\u001b[0m\n\u001b[0m\u001b[1;32m    441\u001b[0m \u001b[0;34m\u001b[0m\u001b[0m\n\u001b[1;32m    442\u001b[0m     \u001b[0;32mif\u001b[0m \u001b[0mchunksize\u001b[0m \u001b[0;32mor\u001b[0m \u001b[0miterator\u001b[0m\u001b[0;34m:\u001b[0m\u001b[0;34m\u001b[0m\u001b[0;34m\u001b[0m\u001b[0m\n",
      "\u001b[0;32m/anaconda3/lib/python3.7/site-packages/pandas/io/parsers.py\u001b[0m in \u001b[0;36m__init__\u001b[0;34m(self, f, engine, **kwds)\u001b[0m\n\u001b[1;32m    785\u001b[0m             \u001b[0mself\u001b[0m\u001b[0;34m.\u001b[0m\u001b[0moptions\u001b[0m\u001b[0;34m[\u001b[0m\u001b[0;34m'has_index_names'\u001b[0m\u001b[0;34m]\u001b[0m \u001b[0;34m=\u001b[0m \u001b[0mkwds\u001b[0m\u001b[0;34m[\u001b[0m\u001b[0;34m'has_index_names'\u001b[0m\u001b[0;34m]\u001b[0m\u001b[0;34m\u001b[0m\u001b[0;34m\u001b[0m\u001b[0m\n\u001b[1;32m    786\u001b[0m \u001b[0;34m\u001b[0m\u001b[0m\n\u001b[0;32m--> 787\u001b[0;31m         \u001b[0mself\u001b[0m\u001b[0;34m.\u001b[0m\u001b[0m_make_engine\u001b[0m\u001b[0;34m(\u001b[0m\u001b[0mself\u001b[0m\u001b[0;34m.\u001b[0m\u001b[0mengine\u001b[0m\u001b[0;34m)\u001b[0m\u001b[0;34m\u001b[0m\u001b[0;34m\u001b[0m\u001b[0m\n\u001b[0m\u001b[1;32m    788\u001b[0m \u001b[0;34m\u001b[0m\u001b[0m\n\u001b[1;32m    789\u001b[0m     \u001b[0;32mdef\u001b[0m \u001b[0mclose\u001b[0m\u001b[0;34m(\u001b[0m\u001b[0mself\u001b[0m\u001b[0;34m)\u001b[0m\u001b[0;34m:\u001b[0m\u001b[0;34m\u001b[0m\u001b[0;34m\u001b[0m\u001b[0m\n",
      "\u001b[0;32m/anaconda3/lib/python3.7/site-packages/pandas/io/parsers.py\u001b[0m in \u001b[0;36m_make_engine\u001b[0;34m(self, engine)\u001b[0m\n\u001b[1;32m   1012\u001b[0m     \u001b[0;32mdef\u001b[0m \u001b[0m_make_engine\u001b[0m\u001b[0;34m(\u001b[0m\u001b[0mself\u001b[0m\u001b[0;34m,\u001b[0m \u001b[0mengine\u001b[0m\u001b[0;34m=\u001b[0m\u001b[0;34m'c'\u001b[0m\u001b[0;34m)\u001b[0m\u001b[0;34m:\u001b[0m\u001b[0;34m\u001b[0m\u001b[0;34m\u001b[0m\u001b[0m\n\u001b[1;32m   1013\u001b[0m         \u001b[0;32mif\u001b[0m \u001b[0mengine\u001b[0m \u001b[0;34m==\u001b[0m \u001b[0;34m'c'\u001b[0m\u001b[0;34m:\u001b[0m\u001b[0;34m\u001b[0m\u001b[0;34m\u001b[0m\u001b[0m\n\u001b[0;32m-> 1014\u001b[0;31m             \u001b[0mself\u001b[0m\u001b[0;34m.\u001b[0m\u001b[0m_engine\u001b[0m \u001b[0;34m=\u001b[0m \u001b[0mCParserWrapper\u001b[0m\u001b[0;34m(\u001b[0m\u001b[0mself\u001b[0m\u001b[0;34m.\u001b[0m\u001b[0mf\u001b[0m\u001b[0;34m,\u001b[0m \u001b[0;34m**\u001b[0m\u001b[0mself\u001b[0m\u001b[0;34m.\u001b[0m\u001b[0moptions\u001b[0m\u001b[0;34m)\u001b[0m\u001b[0;34m\u001b[0m\u001b[0;34m\u001b[0m\u001b[0m\n\u001b[0m\u001b[1;32m   1015\u001b[0m         \u001b[0;32melse\u001b[0m\u001b[0;34m:\u001b[0m\u001b[0;34m\u001b[0m\u001b[0;34m\u001b[0m\u001b[0m\n\u001b[1;32m   1016\u001b[0m             \u001b[0;32mif\u001b[0m \u001b[0mengine\u001b[0m \u001b[0;34m==\u001b[0m \u001b[0;34m'python'\u001b[0m\u001b[0;34m:\u001b[0m\u001b[0;34m\u001b[0m\u001b[0;34m\u001b[0m\u001b[0m\n",
      "\u001b[0;32m/anaconda3/lib/python3.7/site-packages/pandas/io/parsers.py\u001b[0m in \u001b[0;36m__init__\u001b[0;34m(self, src, **kwds)\u001b[0m\n\u001b[1;32m   1706\u001b[0m         \u001b[0mkwds\u001b[0m\u001b[0;34m[\u001b[0m\u001b[0;34m'usecols'\u001b[0m\u001b[0;34m]\u001b[0m \u001b[0;34m=\u001b[0m \u001b[0mself\u001b[0m\u001b[0;34m.\u001b[0m\u001b[0musecols\u001b[0m\u001b[0;34m\u001b[0m\u001b[0;34m\u001b[0m\u001b[0m\n\u001b[1;32m   1707\u001b[0m \u001b[0;34m\u001b[0m\u001b[0m\n\u001b[0;32m-> 1708\u001b[0;31m         \u001b[0mself\u001b[0m\u001b[0;34m.\u001b[0m\u001b[0m_reader\u001b[0m \u001b[0;34m=\u001b[0m \u001b[0mparsers\u001b[0m\u001b[0;34m.\u001b[0m\u001b[0mTextReader\u001b[0m\u001b[0;34m(\u001b[0m\u001b[0msrc\u001b[0m\u001b[0;34m,\u001b[0m \u001b[0;34m**\u001b[0m\u001b[0mkwds\u001b[0m\u001b[0;34m)\u001b[0m\u001b[0;34m\u001b[0m\u001b[0;34m\u001b[0m\u001b[0m\n\u001b[0m\u001b[1;32m   1709\u001b[0m \u001b[0;34m\u001b[0m\u001b[0m\n\u001b[1;32m   1710\u001b[0m         \u001b[0mpassed_names\u001b[0m \u001b[0;34m=\u001b[0m \u001b[0mself\u001b[0m\u001b[0;34m.\u001b[0m\u001b[0mnames\u001b[0m \u001b[0;32mis\u001b[0m \u001b[0;32mNone\u001b[0m\u001b[0;34m\u001b[0m\u001b[0;34m\u001b[0m\u001b[0m\n",
      "\u001b[0;32mpandas/_libs/parsers.pyx\u001b[0m in \u001b[0;36mpandas._libs.parsers.TextReader.__cinit__\u001b[0;34m()\u001b[0m\n",
      "\u001b[0;32mpandas/_libs/parsers.pyx\u001b[0m in \u001b[0;36mpandas._libs.parsers.TextReader._setup_parser_source\u001b[0;34m()\u001b[0m\n",
      "\u001b[0;31mFileNotFoundError\u001b[0m: File b'./filesForStartOfDatathon/One Hot.csv' does not exist"
     ]
    }
   ],
   "source": [
    "pd.read_csv('One Hot.csv')"
   ]
  },
  {
   "cell_type": "code",
   "execution_count": null,
   "metadata": {},
   "outputs": [],
   "source": []
  },
  {
   "cell_type": "code",
   "execution_count": null,
   "metadata": {},
   "outputs": [],
   "source": []
  }
 ],
 "metadata": {
  "kernelspec": {
   "display_name": "Python 3",
   "language": "python",
   "name": "python3"
  },
  "language_info": {
   "codemirror_mode": {
    "name": "ipython",
    "version": 3
   },
   "file_extension": ".py",
   "mimetype": "text/x-python",
   "name": "python",
   "nbconvert_exporter": "python",
   "pygments_lexer": "ipython3",
   "version": "3.7.1"
  }
 },
 "nbformat": 4,
 "nbformat_minor": 2
}
